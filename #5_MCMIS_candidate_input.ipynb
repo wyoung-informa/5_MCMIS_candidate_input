{
 "cells": [
  {
   "cell_type": "code",
   "execution_count": 1,
   "metadata": {},
   "outputs": [],
   "source": [
    "import psycopg2 as p\n",
    "import glob, os, csv, time"
   ]
  },
  {
   "cell_type": "code",
   "execution_count": 2,
   "metadata": {},
   "outputs": [],
   "source": [
    "start_time = time.time()"
   ]
  },
  {
   "cell_type": "code",
   "execution_count": 3,
   "metadata": {},
   "outputs": [
    {
     "name": "stdout",
     "output_type": "stream",
     "text": [
      "\\\\informaplc.sharepoint.com@SSL\\DavWWWRoot\\sites\\GAATLFS1\\Shared Documents\\FleetSeek Atlanta\\MCMIS_candidates\\MCMIS_output\\candidates2020_01_31 13_18_33.csv\n"
     ]
    }
   ],
   "source": [
    "# * means all if need specific format then *.csv\n",
    "list_of_files = glob.glob(r'\\\\informaplc.sharepoint.com@SSL\\DavWWWRoot\\sites\\GAATLFS1\\Shared Documents\\FleetSeek Atlanta\\MCMIS_candidates\\MCMIS_output\\candidates*.csv') \n",
    "# Finds the oldest file in that list to insert\n",
    "oldest_csv_file = min(list_of_files, key=os.path.getctime)\n",
    "\n",
    "print(oldest_csv_file)"
   ]
  },
  {
   "cell_type": "code",
   "execution_count": 4,
   "metadata": {},
   "outputs": [
    {
     "name": "stdout",
     "output_type": "stream",
     "text": [
      "\\\\informaplc.sharepoint.com@SSL\\DavWWWRoot\\sites\\GAATLFS1\\Shared Documents\\FleetSeek Atlanta\\MCMIS_candidates\\MCMIS_output\\candidates2020_01_31 13_18_33\n",
      "candidates2020_01_31 13_18_33\n"
     ]
    }
   ],
   "source": [
    "# This cell writes a tab delimited text file for insertion into the mcmisreview_input table\n",
    "\n",
    "file_base = os.path.splitext(oldest_csv_file)[0]\n",
    "file_name = file_base.rsplit('\\\\', 1)[-1]\n",
    "print(file_base)\n",
    "print(file_name)"
   ]
  },
  {
   "cell_type": "code",
   "execution_count": 5,
   "metadata": {},
   "outputs": [],
   "source": [
    "with open(oldest_csv_file, 'r') as fin, open(r'\\\\informaplc.sharepoint.com@SSL\\DavWWWRoot\\sites\\GAATLFS1\\Shared Documents\\FleetSeek Atlanta\\MCMIS_candidates\\MCMIS_input\\\\' + file_name + '.txt', 'w', newline = '') as fout:\n",
    "    reader = csv.DictReader(fin)\n",
    "    writer = csv.DictWriter(fout, reader.fieldnames, delimiter='\\t', lineterminator = '\\n')\n",
    "    writer.writerows(reader)"
   ]
  },
  {
   "cell_type": "code",
   "execution_count": 6,
   "metadata": {},
   "outputs": [
    {
     "name": "stdout",
     "output_type": "stream",
     "text": [
      "\\\\informaplc.sharepoint.com@SSL\\DavWWWRoot\\sites\\GAATLFS1\\Shared Documents\\FleetSeek Atlanta\\MCMIS_candidates\\MCMIS_input\\candidates2020_01_31 13_18_33.txt\n"
     ]
    }
   ],
   "source": [
    "text_list = glob.glob(r'\\\\informaplc.sharepoint.com@SSL\\DavWWWRoot\\sites\\GAATLFS1\\Shared Documents\\FleetSeek Atlanta\\MCMIS_candidates\\MCMIS_input\\*.txt')\n",
    "newest_txt_file = max(text_list, key=os.path.getctime)\n",
    "print(newest_txt_file)"
   ]
  },
  {
   "cell_type": "code",
   "execution_count": 7,
   "metadata": {},
   "outputs": [],
   "source": [
    "password = 'Evergreen1'\n",
    "\n",
    "conn = p.connect(database = 'postgres', user = 'postgres', password = password, \n",
    "                       host = 'localhost', port = 5433)\n",
    "\n",
    "cur = conn.cursor()"
   ]
  },
  {
   "cell_type": "code",
   "execution_count": 8,
   "metadata": {},
   "outputs": [],
   "source": [
    "with open(newest_txt_file, 'r') as f:\n",
    "    cur.copy_from(f ,'public.mcmiscandidate_input', sep = '\\t', null = '')\n",
    "    conn.commit()\n",
    "conn.close()"
   ]
  },
  {
   "cell_type": "code",
   "execution_count": 9,
   "metadata": {},
   "outputs": [],
   "source": [
    "# Still need to write a cell that moves them to processed"
   ]
  },
  {
   "cell_type": "code",
   "execution_count": 10,
   "metadata": {},
   "outputs": [],
   "source": [
    "end_time = time.time() - start_time"
   ]
  },
  {
   "cell_type": "code",
   "execution_count": 11,
   "metadata": {},
   "outputs": [
    {
     "name": "stdout",
     "output_type": "stream",
     "text": [
      "2.7779581546783447\n"
     ]
    }
   ],
   "source": [
    "print(end_time)"
   ]
  }
 ],
 "metadata": {
  "kernelspec": {
   "display_name": "Python 3",
   "language": "python",
   "name": "python3"
  },
  "language_info": {
   "codemirror_mode": {
    "name": "ipython",
    "version": 3
   },
   "file_extension": ".py",
   "mimetype": "text/x-python",
   "name": "python",
   "nbconvert_exporter": "python",
   "pygments_lexer": "ipython3",
   "version": "3.7.4"
  }
 },
 "nbformat": 4,
 "nbformat_minor": 4
}
